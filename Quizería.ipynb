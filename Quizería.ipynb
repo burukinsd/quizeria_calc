{
  "metadata": {
    "kernelspec": {
      "name": "python",
      "display_name": "Python (Pyodide)",
      "language": "python"
    },
    "language_info": {
      "codemirror_mode": {
        "name": "python",
        "version": 3
      },
      "file_extension": ".py",
      "mimetype": "text/x-python",
      "name": "python",
      "nbconvert_exporter": "python",
      "pygments_lexer": "ipython3",
      "version": "3.8"
    }
  },
  "nbformat_minor": 5,
  "nbformat": 4,
  "cells": [
    {
      "id": "4c15081d-7f0a-4321-a5eb-92b228a5342c",
      "cell_type": "markdown",
      "source": "# Quizería Ставочная. Почему 10?",
      "metadata": {}
    },
    {
      "id": "4b1843b6-38ca-4c39-864f-e27f8a4ac870",
      "cell_type": "code",
      "source": "%pip install -q ipywidgets",
      "metadata": {
        "trusted": true
      },
      "outputs": [],
      "execution_count": 1
    },
    {
      "id": "aa5dbc16-71dc-4f8a-8d00-655e03906702",
      "cell_type": "code",
      "source": "import numpy as np\nfrom matplotlib import pyplot as plt\n\nfrom ipywidgets import interactive, fixed",
      "metadata": {
        "trusted": true
      },
      "outputs": [
        {
          "name": "stderr",
          "output_type": "stream",
          "text": "Matplotlib is building the font cache; this may take a moment.\n"
        }
      ],
      "execution_count": 2
    },
    {
      "id": "1bb5fcd8-c2fe-4354-aeac-025fa896597a",
      "cell_type": "markdown",
      "source": "На момент ставки нам известны результаты первых четырех раундов.\nВ расширенном варианте рассмотрим разницу в результатах от -20 до 20 - так как это максимально возможный разрыв который можно перекрыть ставками.\nВ сокращенном - от -5 до 5.",
      "metadata": {}
    },
    {
      "id": "c41a878c-2fa5-4e63-90f6-5929d438fe5d",
      "cell_type": "code",
      "source": "gap_variation = np.arange(-20, 21)\ngap_variation_realistic = np.arange(-5, 6)",
      "metadata": {
        "trusted": true
      },
      "outputs": [],
      "execution_count": 3
    },
    {
      "id": "f54aebd9-1da1-4562-966d-9cf988b12f26",
      "cell_type": "markdown",
      "source": "До того как узнать общие результаты кроме ставочной будет еще два тура по 6 балов.\nТаким образом теоретически возможное расхождение может вырасти от -12 до 12.\nРеалистичное рассмотрим от -3 до 3.",
      "metadata": {}
    },
    {
      "id": "a46227d7-5b6b-417a-8d10-470f6043c31d",
      "cell_type": "code",
      "source": "gap_2_variation = np.arange(-12, 13)\ngap_2_variation_realistic =  np.arange(-3, 4)",
      "metadata": {
        "trusted": true
      },
      "outputs": [],
      "execution_count": 4
    },
    {
      "id": "c9241614-1dab-4c4f-a8c7-3b67e10f9b1c",
      "cell_type": "markdown",
      "source": "В самой ставочной учитываем потенциальные балы соперника от -10 до 10.",
      "metadata": {}
    },
    {
      "id": "dba16d42-a72b-49c4-9df3-dd3bc9b121eb",
      "cell_type": "code",
      "source": "bet_compititor_result = np.arange(-10, 11)",
      "metadata": {
        "trusted": true
      },
      "outputs": [],
      "execution_count": 5
    },
    {
      "id": "8cd4d68f-53b6-4b33-8f88-a7a81d07910f",
      "cell_type": "markdown",
      "source": "Для определения своих результатов в ставочной введем дополнительную переменную - вероятность правильного ответа в ставочной (p) - наша увереность в себе.\nДля упрощения разобьем ее на децили [0.1, 0.2, .., 1]",
      "metadata": {}
    },
    {
      "id": "276a8188-19aa-4ccd-bf7c-6456bbb5bb57",
      "cell_type": "code",
      "source": "p_variation = np.arange(0.1, 1.1, 0.1)",
      "metadata": {
        "trusted": true
      },
      "outputs": [],
      "execution_count": 6
    },
    {
      "id": "41ace1fd-1246-4ed6-a313-6026a6b6b59f",
      "cell_type": "markdown",
      "source": "Количество баллов которое заработает команда в ствочной определим через математическое ожидание, где p - увереность в ответе, s - ставка\nEV(s) = p⋅s+(1−p)⋅(−s) = s(2p−1)",
      "metadata": {}
    },
    {
      "id": "c81fb3f9-5e8f-4907-813c-990f05218153",
      "cell_type": "markdown",
      "source": "## Для всех возможных ситуаций расклад такой:",
      "metadata": {}
    },
    {
      "id": "15cc8f8a-4961-4a89-9822-10ed97a13265",
      "cell_type": "code",
      "source": "number_of_wins = [0] * 10\n\nfor bet in range(1,11):\n    for gap in gap_variation:\n        for gap2 in gap_2_variation:\n            for bet_c in bet_compititor_result:\n                for p in p_variation:\n                    ev = bet * (2 * p - 1)\n                    result = gap + gap2 + ev - bet_c\n                    if result > 0:\n                        number_of_wins[bet - 1] += 1\n\nall_options = len(gap_variation) * len(gap_2_variation) * len(bet_compititor_result) * len(p_variation)\n\nfor n in number_of_wins:\n    print(\"Для ставки \", number_of_wins.index(n) + 1, \"вероятность одерждать победу в игре равна \", \"%.2f\" % (n / all_options * 100), \"%\")   ",
      "metadata": {
        "trusted": true
      },
      "outputs": [
        {
          "name": "stdout",
          "output_type": "stream",
          "text": "Для ставки  1 вероятность одерждать победу в игре равна  50.00 %\nДля ставки  2 вероятность одерждать победу в игре равна  50.24 %\nДля ставки  3 вероятность одерждать победу в игре равна  50.48 %\nДля ставки  4 вероятность одерждать победу в игре равна  50.72 %\nДля ставки  5 вероятность одерждать победу в игре равна  50.42 %\nДля ставки  6 вероятность одерждать победу в игре равна  51.18 %\nДля ставки  7 вероятность одерждать победу в игре равна  51.41 %\nДля ставки  8 вероятность одерждать победу в игре равна  51.63 %\nДля ставки  9 вероятность одерждать победу в игре равна  51.85 %\nДля ставки  10 вероятность одерждать победу в игре равна  51.83 %\n"
        }
      ],
      "execution_count": 7
    },
    {
      "id": "f73fa81f-5e90-4b90-932d-a9d06bc62a84",
      "cell_type": "markdown",
      "source": "## Для реалистичных ситуаций расклад такой:",
      "metadata": {}
    },
    {
      "id": "f2a1f8cf-3d60-4e70-9cb1-af5e9a6af8a5",
      "cell_type": "code",
      "source": "number_of_wins_r = [0] * 10\n\nfor bet in range(1,11):\n    for gap in gap_variation_realistic:\n        for gap2 in gap_2_variation_realistic:\n            for bet_c in bet_compititor_result:\n                for p in p_variation:\n                    ev = bet * (2 * p - 1)\n                    result = gap + gap2 + ev - bet_c\n                    if result > 0:\n                        number_of_wins_r[bet - 1] += 1\nall_options_r = len(gap_variation_realistic) * len(gap_2_variation_realistic) * len(bet_compititor_result) * len(p_variation)    \n\nfor n in number_of_wins_r:\n    print(\"Для ставки \", number_of_wins_r.index(n) + 1, \"вероятность одерждать победу в игре равна \", \"%.2f\" % (n / all_options_r * 100), \"%\")  ",
      "metadata": {
        "trusted": true
      },
      "outputs": [
        {
          "name": "stdout",
          "output_type": "stream",
          "text": "Для ставки  1 вероятность одерждать победу в игре равна  50.00 %\nДля ставки  2 вероятность одерждать победу в игре равна  50.48 %\nДля ставки  3 вероятность одерждать победу в игре равна  50.95 %\nДля ставки  4 вероятность одерждать победу в игре равна  51.42 %\nДля ставки  5 вероятность одерждать победу в игре равна  51.18 %\nДля ставки  6 вероятность одерждать победу в игре равна  52.32 %\nДля ставки  7 вероятность одерждать победу в игре равна  52.73 %\nДля ставки  8 вероятность одерждать победу в игре равна  53.12 %\nДля ставки  9 вероятность одерждать победу в игре равна  53.46 %\nДля ставки  10 вероятность одерждать победу в игре равна  53.56 %\n"
        }
      ],
      "execution_count": 8
    },
    {
      "id": "d43b10c0-0f8e-46e3-bf56-95b207640cbf",
      "cell_type": "code",
      "source": "def calculate(diff_before_5 = 0, scores_in_5 = 6, p = 0.7):\n    gap_2_vars = np.arange(-12 + scores_in_5, 13 - scores_in_5)\n    \n    number_of_wins_i = [0] * 10\n    \n    for bet in range(1,11):\n        for gap2 in gap_2_vars:\n            for bet_c in bet_compititor_result:\n                ev = bet * (2 * p - 1)\n                result = diff_before_5 + gap2 + ev - bet_c\n                \n                if result > 0:\n                    number_of_wins_i[bet - 1] += 1\n\n    all_opt_i = len(gap_2_vars) *  len(bet_compititor_result) \n    \n    for bet in range(1,11):\n        print(\"Для ставки \", bet, \"вероятность одерждать победу в игре равна \", \"%.2f\" % (number_of_wins_i[bet - 1] / all_opt_i * 100), \"%\")\n        ",
      "metadata": {
        "trusted": true
      },
      "outputs": [],
      "execution_count": 9
    },
    {
      "id": "43beff82-aac9-414c-af45-d6777f13594b",
      "cell_type": "markdown",
      "source": "## Для поиграть в доктора Стренджа.\ndiff_before_5 - разница с ближайшим соперником псоле перерыва\nscores_in_5 - резальтат в пятом туре\np - увереность в правильном ответе",
      "metadata": {}
    },
    {
      "id": "a7349fce-77af-4e3a-9d36-7c3de1de337f",
      "cell_type": "code",
      "source": "w = interactive(calculate, diff_before_5 = (-20, 20), scores_in_5 = (0, 6), p = (0.1, 1.0))\nw",
      "metadata": {
        "trusted": true
      },
      "outputs": [
        {
          "execution_count": 10,
          "output_type": "execute_result",
          "data": {
            "text/plain": "interactive(children=(IntSlider(value=0, description='diff_before_5', max=20, min=-20), IntSlider(value=6, des…",
            "application/vnd.jupyter.widget-view+json": {
              "version_major": 2,
              "version_minor": 0,
              "model_id": "b6a4742c80104a86891f05b794aafdcb"
            }
          },
          "metadata": {}
        }
      ],
      "execution_count": 10
    }
  ]
}
